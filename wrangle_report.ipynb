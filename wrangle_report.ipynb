{
 "cells": [
  {
   "cell_type": "markdown",
   "metadata": {},
   "source": [
    "## Reporting: wragle_report\n"
   ]
  },
  {
   "cell_type": "markdown",
   "metadata": {},
   "source": [
    "J'ai rassemblé les données de trois sources différentes, j'ai utilisé le document qui existe dans udacity car mon compte développeur n'a pas été approuvé par twitter.\n",
    "\n",
    "puis j'ai exploré chaque jeu de données pour comprendre le contexte du jeu de données puis j'ai regardé les données et j'ai remarqué plusieurs choses, par exemple (problèmes d'ordre et problèmes de qualité), certaines données ont été extraites de manière incorrecte, de nombreuses colonnes ont été formatées de manière incorrecte et certains types de colonnes ne correspondaient pas au type de données, et je n'ai pas compris le sens de certaines colonnes, et pour régler cela j'ai cherché dans plusieurs sources pour les comprendre.\n",
    "\n",
    "Dans cette étape d'exploration, j'ai noté tous les problèmes que je trouve alors j'ai commencé à corriger tous les problèmes,\n",
    "\n",
    "J'ai commencé par des problèmes de qualité comme la correction du type de certaines colonnes (object to float, object to bool, object to datetime ect), et le traitement des valeurs manquantes, des données en double, du formatage des données, etc.\n",
    "\n",
    "ensuite je suis passé au problème d'ordre la suppression des colonnes, jointure entre les tables ect.. Enfin pour bien corriger les données j'ai créé d'autres colonnes, j'ai supprimé d'autres ect\n",
    "\n",
    "\n",
    "Après avoir corrigé les données, j'ai décidé de joindre les trois jeux de données pour créer un seul ensemble et j'ai explore les données une autre fois pour trouver des relations entre les données et note des questions, après avoir noté des questions et y avoir répondu avec une visualisation simple et claire.\n",
    "\n",
    "Dans la dernière étape, j'ai utilisé beaucoup de visualisation (nuage de points pour voir la relation, caractère de barre pour voir le pourcentage, caractère de ligne pour voir l'évolution dans le temps). à la fin j'ai écrit ce rapport qui décrit ce que j'ai fait dans ce projet"
   ]
  },
  {
   "cell_type": "code",
   "execution_count": 1,
   "metadata": {},
   "outputs": [
    {
     "data": {
      "text/plain": [
       "0"
      ]
     },
     "execution_count": 1,
     "metadata": {},
     "output_type": "execute_result"
    }
   ],
   "source": [
    "from subprocess import call\n",
    "call(['python', '-m', 'nbconvert', 'wrangle_report.ipynb'])"
   ]
  },
  {
   "cell_type": "code",
   "execution_count": null,
   "metadata": {},
   "outputs": [],
   "source": []
  }
 ],
 "metadata": {
  "kernelspec": {
   "display_name": "Python 3",
   "language": "python",
   "name": "python3"
  },
  "language_info": {
   "codemirror_mode": {
    "name": "ipython",
    "version": 3
   },
   "file_extension": ".py",
   "mimetype": "text/x-python",
   "name": "python",
   "nbconvert_exporter": "python",
   "pygments_lexer": "ipython3",
   "version": "3.6.3"
  }
 },
 "nbformat": 4,
 "nbformat_minor": 2
}
