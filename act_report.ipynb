{
 "cells": [
  {
   "cell_type": "markdown",
   "metadata": {},
   "source": [
    "## Report: act_report\n"
   ]
  },
  {
   "cell_type": "markdown",
   "metadata": {},
   "source": [
    "<img src=\"bar_char_fav_ret_par_anne.png\" width=\"700\" height=\"400\">\n",
    "\n"
   ]
  },
  {
   "cell_type": "markdown",
   "metadata": {},
   "source": [
    "- on peut dire qu'il y a une très grosse évolution des favoris à chaque année dans ce compte mais par contre le nombre de retweets n'augmente pas rapidement\n",
    "- dans ce cas, nous pouvons dire que la majorité des gens ne font que des favoris pour les chiens\n",
    "- l'année 2017 a le plus grand nombre de favoris \n",
    "- l'annee 2016 a le plus grand nombre de retweet"
   ]
  },
  {
   "cell_type": "markdown",
   "metadata": {},
   "source": [
    " <img src=\"sum_retweet_favourite_type_dogs1.png\" width=\"800\" height=\"400\">\n",
    " \n"
   ]
  },
  {
   "cell_type": "markdown",
   "metadata": {},
   "source": [
    "- de ce schéma on peut déduire que la majorité des gens aiment vraiment les deux types de chien (doggo et pupper) car le nombre de favoris est très important par rapport au nombre de retweets\n",
    "- et on peut aussi dire que les gens n'aiment pas beacoup le type floofer"
   ]
  },
  {
   "cell_type": "markdown",
   "metadata": {},
   "source": [
    " <img src=\"sum_retweet_favourite_name_dogs.png\" width=\"800\" height=\"400\">\n",
    " \n"
   ]
  },
  {
   "cell_type": "markdown",
   "metadata": {},
   "source": [
    "- on peut voir les populaires chiens dans ce jeu de donnee,\n",
    "- le chien Bo est le chien qu'a une grande nombre de favourite et de retweet\n",
    "- les autre chien ont des valeur plus proches"
   ]
  },
  {
   "cell_type": "code",
   "execution_count": null,
   "metadata": {},
   "outputs": [],
   "source": []
  },
  {
   "cell_type": "markdown",
   "metadata": {},
   "source": [
    "<img src=\"rela_retweet_favou.png\" width=\"800\" height=\"400\">"
   ]
  },
  {
   "cell_type": "markdown",
   "metadata": {},
   "source": [
    "- on peut voir une correlation linéaire entre les retweets et les favourite"
   ]
  },
  {
   "cell_type": "markdown",
   "metadata": {},
   "source": [
    "\n",
    "<img src=\"time_retweet.png\" width=\"800\" height=\"400\">\n",
    "\n",
    "<img src=\"time_favourite.png\" width=\"800\" height=\"400\">\n",
    "\n",
    "<img src=\"time_rating.png\" width=\"800\" height=\"400\">\n",
    "\n"
   ]
  },
  {
   "cell_type": "markdown",
   "metadata": {},
   "source": [
    "- nous pouvons voir une petite relation entre la note, le favori et le retweet au fil du temps\n",
    "- nous pouvons également voir une augmentation de la popularité au fil du temps"
   ]
  },
  {
   "cell_type": "markdown",
   "metadata": {},
   "source": [
    "### Conclusion"
   ]
  },
  {
   "cell_type": "markdown",
   "metadata": {},
   "source": [
    "d'après cette analyse on peut dire qu'il y a une évolution très importante du nombre de retweet, de favori et de notation dans le temps\n",
    "il y a aussi une petite corrélation entre eux. nous pouvons également voir que la majorité des gens aiment vraiment un certain type de chien\n",
    "et détecte certains types"
   ]
  },
  {
   "cell_type": "code",
   "execution_count": 2,
   "metadata": {},
   "outputs": [
    {
     "data": {
      "text/plain": [
       "0"
      ]
     },
     "execution_count": 2,
     "metadata": {},
     "output_type": "execute_result"
    }
   ],
   "source": [
    "from subprocess import call\n",
    "call(['python', '-m', 'nbconvert', 'act_report.ipynb'])"
   ]
  },
  {
   "cell_type": "code",
   "execution_count": null,
   "metadata": {},
   "outputs": [],
   "source": []
  },
  {
   "cell_type": "code",
   "execution_count": null,
   "metadata": {},
   "outputs": [],
   "source": []
  }
 ],
 "metadata": {
  "kernelspec": {
   "display_name": "Python 3",
   "language": "python",
   "name": "python3"
  },
  "language_info": {
   "codemirror_mode": {
    "name": "ipython",
    "version": 3
   },
   "file_extension": ".py",
   "mimetype": "text/x-python",
   "name": "python",
   "nbconvert_exporter": "python",
   "pygments_lexer": "ipython3",
   "version": "3.6.3"
  }
 },
 "nbformat": 4,
 "nbformat_minor": 2
}
